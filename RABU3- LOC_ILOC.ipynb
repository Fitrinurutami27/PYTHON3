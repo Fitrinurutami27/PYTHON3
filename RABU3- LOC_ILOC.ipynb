{
 "cells": [
  {
   "cell_type": "markdown",
   "id": "d7658fd7",
   "metadata": {},
   "source": [
    "LOC AND ILOC\n",
    "EXAMPLES OF DATA THAT HAVE THE SAME IMPLICIT INDEX AND EXPLICIT INDEX"
   ]
  },
  {
   "cell_type": "code",
   "execution_count": 4,
   "id": "39a1c5f6",
   "metadata": {},
   "outputs": [],
   "source": [
    "data_2 = pd.Series([0.25, 0.50, 0.75, 1], index=[2,5,3,7])"
   ]
  },
  {
   "cell_type": "code",
   "execution_count": 6,
   "id": "8609499d",
   "metadata": {},
   "outputs": [
    {
     "data": {
      "text/plain": [
       "2    0.25\n",
       "5    0.50\n",
       "3    0.75\n",
       "7    1.00\n",
       "dtype: float64"
      ]
     },
     "execution_count": 6,
     "metadata": {},
     "output_type": "execute_result"
    }
   ],
   "source": [
    "data_2"
   ]
  },
  {
   "cell_type": "markdown",
   "id": "a6318b68",
   "metadata": {},
   "source": [
    "When we access an index, what appears is the explicit index."
   ]
  },
  {
   "cell_type": "code",
   "execution_count": 7,
   "id": "fa218e90",
   "metadata": {},
   "outputs": [
    {
     "data": {
      "text/plain": [
       "0.25"
      ]
     },
     "execution_count": 7,
     "metadata": {},
     "output_type": "execute_result"
    }
   ],
   "source": [
    "data_2[2] #indeks ekplisit : selecting"
   ]
  },
  {
   "cell_type": "markdown",
   "id": "dd8fc5ee",
   "metadata": {},
   "source": [
    "when we call the explicit index from index 2 to index 3. the value that appears is precisely from the implicit index"
   ]
  },
  {
   "cell_type": "code",
   "execution_count": 8,
   "id": "c019ad6d",
   "metadata": {},
   "outputs": [
    {
     "data": {
      "text/plain": [
       "3    0.75\n",
       "dtype: float64"
      ]
     },
     "execution_count": 8,
     "metadata": {},
     "output_type": "execute_result"
    }
   ],
   "source": [
    "data_2[2:3] #indexs implisit : slicing"
   ]
  },
  {
   "cell_type": "markdown",
   "id": "08d5055e",
   "metadata": {},
   "source": [
    "When the explicit index and implicit index are the same, inconsistencies will occur as in the case above.\n",
    "To overcome this inconsistency, we will use the loc and iloc rules.\n",
    "\n",
    "loc is to call the explicit index.\n",
    "iloc is for calling the implicit index."
   ]
  },
  {
   "cell_type": "code",
   "execution_count": 9,
   "id": "d32f9647",
   "metadata": {},
   "outputs": [
    {
     "data": {
      "text/plain": [
       "0.75"
      ]
     },
     "execution_count": 9,
     "metadata": {},
     "output_type": "execute_result"
    }
   ],
   "source": [
    "#loc\n",
    "\n",
    "data_2.loc[3] #selecting index eksplisit"
   ]
  },
  {
   "cell_type": "code",
   "execution_count": 10,
   "id": "c07ee005",
   "metadata": {},
   "outputs": [
    {
     "data": {
      "text/plain": [
       "2    0.25\n",
       "5    0.50\n",
       "3    0.75\n",
       "dtype: float64"
      ]
     },
     "execution_count": 10,
     "metadata": {},
     "output_type": "execute_result"
    }
   ],
   "source": [
    "data_2.loc[2:3] #sicing index ekplisit"
   ]
  },
  {
   "cell_type": "code",
   "execution_count": 11,
   "id": "967be050",
   "metadata": {},
   "outputs": [
    {
     "data": {
      "text/plain": [
       "1.0"
      ]
     },
     "execution_count": 11,
     "metadata": {},
     "output_type": "execute_result"
    }
   ],
   "source": [
    "# iloc\n",
    "\n",
    "data_2.iloc[3] #selecting index implisit"
   ]
  },
  {
   "cell_type": "code",
   "execution_count": 12,
   "id": "577d5273",
   "metadata": {},
   "outputs": [
    {
     "data": {
      "text/plain": [
       "3    0.75\n",
       "dtype: float64"
      ]
     },
     "execution_count": 12,
     "metadata": {},
     "output_type": "execute_result"
    }
   ],
   "source": [
    "data_2.iloc[2:3] #slicing index implisit"
   ]
  },
  {
   "cell_type": "code",
   "execution_count": 13,
   "id": "2a1c8ec4",
   "metadata": {},
   "outputs": [],
   "source": [
    "dict_populasi = {'Jakarta' :750,\n",
    "                'Bogor' :490,\n",
    "                'Depok' :350,\n",
    "                'Tanggera' :270,\n",
    "                'Bekasi' :670}\n",
    "\n",
    "#This is just an example, not a real population figure"
   ]
  },
  {
   "cell_type": "code",
   "execution_count": 14,
   "id": "2c1f10fb",
   "metadata": {},
   "outputs": [
    {
     "data": {
      "text/plain": [
       "{'Jakarta': 750, 'Bogor': 490, 'Depok': 350, 'Tanggera': 270, 'Bekasi': 670}"
      ]
     },
     "execution_count": 14,
     "metadata": {},
     "output_type": "execute_result"
    }
   ],
   "source": [
    "dict_populasi"
   ]
  },
  {
   "cell_type": "code",
   "execution_count": 15,
   "id": "e978b1f1",
   "metadata": {},
   "outputs": [],
   "source": [
    "#transformasi dictionary to series\n",
    "\n",
    "populasi = pd.Series(dict_populasi)"
   ]
  },
  {
   "cell_type": "code",
   "execution_count": 23,
   "id": "4a0aef73",
   "metadata": {},
   "outputs": [
    {
     "data": {
      "text/plain": [
       "Jakarta     750\n",
       "Bogor       490\n",
       "Depok       350\n",
       "Tanggera    270\n",
       "Bekasi      670\n",
       "dtype: int64"
      ]
     },
     "execution_count": 23,
     "metadata": {},
     "output_type": "execute_result"
    }
   ],
   "source": [
    "populasi"
   ]
  },
  {
   "cell_type": "code",
   "execution_count": 24,
   "id": "7a9f7176",
   "metadata": {},
   "outputs": [
    {
     "data": {
      "text/plain": [
       "350"
      ]
     },
     "execution_count": 24,
     "metadata": {},
     "output_type": "execute_result"
    }
   ],
   "source": [
    "populasi.loc['Depok']"
   ]
  },
  {
   "cell_type": "code",
   "execution_count": 25,
   "id": "cacbed3b",
   "metadata": {},
   "outputs": [
    {
     "data": {
      "text/plain": [
       "350"
      ]
     },
     "execution_count": 25,
     "metadata": {},
     "output_type": "execute_result"
    }
   ],
   "source": [
    "populasi.iloc[2]"
   ]
  },
  {
   "cell_type": "code",
   "execution_count": 36,
   "id": "d2ce22fe",
   "metadata": {},
   "outputs": [],
   "source": [
    "dict_luas = {'Jakarta' :737,\n",
    "                'Bogor' :325,\n",
    "                'Depok' :247,\n",
    "                'Tanggera' :302,\n",
    "                'Bekasi' :355}\n",
    "\n",
    "#This is just an example, a real broad figure"
   ]
  },
  {
   "cell_type": "code",
   "execution_count": 37,
   "id": "7852125d",
   "metadata": {},
   "outputs": [],
   "source": [
    "luas = pd.Series(dict_luas)"
   ]
  },
  {
   "cell_type": "code",
   "execution_count": 38,
   "id": "728ce0a2",
   "metadata": {},
   "outputs": [
    {
     "data": {
      "text/plain": [
       "Jakarta     737\n",
       "Bogor       325\n",
       "Depok       247\n",
       "Tanggera    302\n",
       "Bekasi      355\n",
       "dtype: int64"
      ]
     },
     "execution_count": 38,
     "metadata": {},
     "output_type": "execute_result"
    }
   ],
   "source": [
    "luas"
   ]
  },
  {
   "cell_type": "markdown",
   "id": "48f0e69c",
   "metadata": {},
   "source": [
    "# DATA FRAME\n",
    "\n",
    "A data frame is a collection of series with at least one series."
   ]
  },
  {
   "cell_type": "code",
   "execution_count": 39,
   "id": "5da30ce5",
   "metadata": {},
   "outputs": [],
   "source": [
    "daerah = pd.DataFrame({'pop': populasi, 'luas daerah': luas})"
   ]
  },
  {
   "cell_type": "code",
   "execution_count": 40,
   "id": "8304a63e",
   "metadata": {
    "scrolled": true
   },
   "outputs": [
    {
     "data": {
      "text/html": [
       "<div>\n",
       "<style scoped>\n",
       "    .dataframe tbody tr th:only-of-type {\n",
       "        vertical-align: middle;\n",
       "    }\n",
       "\n",
       "    .dataframe tbody tr th {\n",
       "        vertical-align: top;\n",
       "    }\n",
       "\n",
       "    .dataframe thead th {\n",
       "        text-align: right;\n",
       "    }\n",
       "</style>\n",
       "<table border=\"1\" class=\"dataframe\">\n",
       "  <thead>\n",
       "    <tr style=\"text-align: right;\">\n",
       "      <th></th>\n",
       "      <th>pop</th>\n",
       "      <th>luas daerah</th>\n",
       "    </tr>\n",
       "  </thead>\n",
       "  <tbody>\n",
       "    <tr>\n",
       "      <th>Jakarta</th>\n",
       "      <td>750</td>\n",
       "      <td>737</td>\n",
       "    </tr>\n",
       "    <tr>\n",
       "      <th>Bogor</th>\n",
       "      <td>490</td>\n",
       "      <td>325</td>\n",
       "    </tr>\n",
       "    <tr>\n",
       "      <th>Depok</th>\n",
       "      <td>350</td>\n",
       "      <td>247</td>\n",
       "    </tr>\n",
       "    <tr>\n",
       "      <th>Tanggera</th>\n",
       "      <td>270</td>\n",
       "      <td>302</td>\n",
       "    </tr>\n",
       "    <tr>\n",
       "      <th>Bekasi</th>\n",
       "      <td>670</td>\n",
       "      <td>355</td>\n",
       "    </tr>\n",
       "  </tbody>\n",
       "</table>\n",
       "</div>"
      ],
      "text/plain": [
       "          pop  luas daerah\n",
       "Jakarta   750          737\n",
       "Bogor     490          325\n",
       "Depok     350          247\n",
       "Tanggera  270          302\n",
       "Bekasi    670          355"
      ]
     },
     "execution_count": 40,
     "metadata": {},
     "output_type": "execute_result"
    }
   ],
   "source": [
    "daerah"
   ]
  },
  {
   "cell_type": "code",
   "execution_count": 42,
   "id": "4bf5e333",
   "metadata": {},
   "outputs": [
    {
     "data": {
      "text/plain": [
       "Jakarta     737\n",
       "Bogor       325\n",
       "Depok       247\n",
       "Tanggera    302\n",
       "Bekasi      355\n",
       "Name: luas daerah, dtype: int64"
      ]
     },
     "execution_count": 42,
     "metadata": {},
     "output_type": "execute_result"
    }
   ],
   "source": [
    "daerah['luas daerah']"
   ]
  },
  {
   "cell_type": "code",
   "execution_count": 44,
   "id": "33b3e0ef",
   "metadata": {},
   "outputs": [
    {
     "data": {
      "text/plain": [
       "737"
      ]
     },
     "execution_count": 44,
     "metadata": {},
     "output_type": "execute_result"
    }
   ],
   "source": [
    "daerah['luas daerah']['Jakarta']"
   ]
  },
  {
   "cell_type": "markdown",
   "id": "21ae1708",
   "metadata": {},
   "source": [
    "when calling data with pop area syntax will appear as below\n",
    "because pop is the same as the function in the data frame"
   ]
  },
  {
   "cell_type": "code",
   "execution_count": 45,
   "id": "43503340",
   "metadata": {},
   "outputs": [
    {
     "data": {
      "text/plain": [
       "<bound method DataFrame.pop of           pop  luas daerah\n",
       "Jakarta   750          737\n",
       "Bogor     490          325\n",
       "Depok     350          247\n",
       "Tanggera  270          302\n",
       "Bekasi    670          355>"
      ]
     },
     "execution_count": 45,
     "metadata": {},
     "output_type": "execute_result"
    }
   ],
   "source": [
    "daerah.pop"
   ]
  },
  {
   "cell_type": "markdown",
   "id": "5d0d1fb9",
   "metadata": {},
   "source": [
    "then it is safer to call the data with the syntax area[population]"
   ]
  },
  {
   "cell_type": "markdown",
   "id": "abcd86d6",
   "metadata": {},
   "source": [
    "TASK1- HARI RABU"
   ]
  },
  {
   "cell_type": "code",
   "execution_count": 17,
   "id": "8df18270",
   "metadata": {},
   "outputs": [],
   "source": [
    "nilai_uts = pd.Series([80,90,78,82,98,60,85], index=[1,2,3,4,5,6,7])"
   ]
  },
  {
   "cell_type": "code",
   "execution_count": 18,
   "id": "443d573c",
   "metadata": {},
   "outputs": [
    {
     "data": {
      "text/plain": [
       "1    80\n",
       "2    90\n",
       "3    78\n",
       "4    82\n",
       "5    98\n",
       "6    60\n",
       "7    85\n",
       "dtype: int64"
      ]
     },
     "execution_count": 18,
     "metadata": {},
     "output_type": "execute_result"
    }
   ],
   "source": [
    "nilai_uts"
   ]
  },
  {
   "cell_type": "code",
   "execution_count": 19,
   "id": "b983789e",
   "metadata": {},
   "outputs": [
    {
     "data": {
      "text/plain": [
       "90"
      ]
     },
     "execution_count": 19,
     "metadata": {},
     "output_type": "execute_result"
    }
   ],
   "source": [
    "nilai_uts.loc[2] #nilai ekplisit"
   ]
  },
  {
   "cell_type": "code",
   "execution_count": 20,
   "id": "71ef22dd",
   "metadata": {},
   "outputs": [
    {
     "data": {
      "text/plain": [
       "78"
      ]
     },
     "execution_count": 20,
     "metadata": {},
     "output_type": "execute_result"
    }
   ],
   "source": [
    "nilai_uts.iloc[2] #nilai implisit"
   ]
  },
  {
   "cell_type": "code",
   "execution_count": 21,
   "id": "560bf180",
   "metadata": {},
   "outputs": [
    {
     "data": {
      "text/plain": [
       "2    90\n",
       "3    78\n",
       "4    82\n",
       "5    98\n",
       "dtype: int64"
      ]
     },
     "execution_count": 21,
     "metadata": {},
     "output_type": "execute_result"
    }
   ],
   "source": [
    "nilai_uts.loc[2:5]"
   ]
  },
  {
   "cell_type": "code",
   "execution_count": 22,
   "id": "ae0a016e",
   "metadata": {},
   "outputs": [
    {
     "data": {
      "text/plain": [
       "3    78\n",
       "4    82\n",
       "5    98\n",
       "dtype: int64"
      ]
     },
     "execution_count": 22,
     "metadata": {},
     "output_type": "execute_result"
    }
   ],
   "source": [
    "nilai_uts.iloc[2:5]"
   ]
  },
  {
   "cell_type": "markdown",
   "id": "40cc3e0d",
   "metadata": {},
   "source": [
    "TASK2 - HARI RABU"
   ]
  },
  {
   "cell_type": "code",
   "execution_count": 55,
   "id": "5425566e",
   "metadata": {},
   "outputs": [],
   "source": [
    "dict_libary = {'python' :10,'database' : 20,'masak masakan' :15,'sikacil yang cerdas' :10,'java script' :5}"
   ]
  },
  {
   "cell_type": "code",
   "execution_count": 56,
   "id": "0cb5bb79",
   "metadata": {},
   "outputs": [],
   "source": [
    "dict_price = {'python' :1000,'database' : 20000,'masak masakan' :15000,'sikacil yang cerdas' :10000,'java script' :5000}"
   ]
  },
  {
   "cell_type": "code",
   "execution_count": 57,
   "id": "fe6fcada",
   "metadata": {},
   "outputs": [
    {
     "data": {
      "text/plain": [
       "{'python': 1000,\n",
       " 'database': 20000,\n",
       " 'masak masakan': 15000,\n",
       " 'sikacil yang cerdas': 10000,\n",
       " 'java script': 5000}"
      ]
     },
     "execution_count": 57,
     "metadata": {},
     "output_type": "execute_result"
    }
   ],
   "source": [
    "dict_price"
   ]
  },
  {
   "cell_type": "code",
   "execution_count": 58,
   "id": "ae6056bf",
   "metadata": {},
   "outputs": [
    {
     "data": {
      "text/plain": [
       "{'python': 10,\n",
       " 'database': 20,\n",
       " 'masak masakan': 15,\n",
       " 'sikacil yang cerdas': 10,\n",
       " 'java script': 5}"
      ]
     },
     "execution_count": 58,
     "metadata": {},
     "output_type": "execute_result"
    }
   ],
   "source": [
    "dict_libary"
   ]
  },
  {
   "cell_type": "code",
   "execution_count": 62,
   "id": "8df6ac2d",
   "metadata": {},
   "outputs": [],
   "source": [
    "libary = pd.Series(dict_libary)"
   ]
  },
  {
   "cell_type": "code",
   "execution_count": 63,
   "id": "6cf496e0",
   "metadata": {},
   "outputs": [
    {
     "data": {
      "text/plain": [
       "python                 10\n",
       "database               20\n",
       "masak masakan          15\n",
       "sikacil yang cerdas    10\n",
       "java script             5\n",
       "dtype: int64"
      ]
     },
     "execution_count": 63,
     "metadata": {},
     "output_type": "execute_result"
    }
   ],
   "source": [
    "libary"
   ]
  },
  {
   "cell_type": "code",
   "execution_count": 64,
   "id": "a866ea13",
   "metadata": {},
   "outputs": [],
   "source": [
    "harga = pd.Series(dict_price)"
   ]
  },
  {
   "cell_type": "code",
   "execution_count": 65,
   "id": "860b5382",
   "metadata": {},
   "outputs": [
    {
     "data": {
      "text/plain": [
       "python                  1000\n",
       "database               20000\n",
       "masak masakan          15000\n",
       "sikacil yang cerdas    10000\n",
       "java script             5000\n",
       "dtype: int64"
      ]
     },
     "execution_count": 65,
     "metadata": {},
     "output_type": "execute_result"
    }
   ],
   "source": [
    "harga"
   ]
  },
  {
   "cell_type": "code",
   "execution_count": 66,
   "id": "0572534e",
   "metadata": {},
   "outputs": [],
   "source": [
    "libary = pd.DataFrame({'pop': libary, 'price': harga})"
   ]
  },
  {
   "cell_type": "code",
   "execution_count": 67,
   "id": "8821b0e0",
   "metadata": {},
   "outputs": [
    {
     "data": {
      "text/html": [
       "<div>\n",
       "<style scoped>\n",
       "    .dataframe tbody tr th:only-of-type {\n",
       "        vertical-align: middle;\n",
       "    }\n",
       "\n",
       "    .dataframe tbody tr th {\n",
       "        vertical-align: top;\n",
       "    }\n",
       "\n",
       "    .dataframe thead th {\n",
       "        text-align: right;\n",
       "    }\n",
       "</style>\n",
       "<table border=\"1\" class=\"dataframe\">\n",
       "  <thead>\n",
       "    <tr style=\"text-align: right;\">\n",
       "      <th></th>\n",
       "      <th>pop</th>\n",
       "      <th>price</th>\n",
       "    </tr>\n",
       "  </thead>\n",
       "  <tbody>\n",
       "    <tr>\n",
       "      <th>python</th>\n",
       "      <td>10</td>\n",
       "      <td>1000</td>\n",
       "    </tr>\n",
       "    <tr>\n",
       "      <th>database</th>\n",
       "      <td>20</td>\n",
       "      <td>20000</td>\n",
       "    </tr>\n",
       "    <tr>\n",
       "      <th>masak masakan</th>\n",
       "      <td>15</td>\n",
       "      <td>15000</td>\n",
       "    </tr>\n",
       "    <tr>\n",
       "      <th>sikacil yang cerdas</th>\n",
       "      <td>10</td>\n",
       "      <td>10000</td>\n",
       "    </tr>\n",
       "    <tr>\n",
       "      <th>java script</th>\n",
       "      <td>5</td>\n",
       "      <td>5000</td>\n",
       "    </tr>\n",
       "  </tbody>\n",
       "</table>\n",
       "</div>"
      ],
      "text/plain": [
       "                     pop  price\n",
       "python                10   1000\n",
       "database              20  20000\n",
       "masak masakan         15  15000\n",
       "sikacil yang cerdas   10  10000\n",
       "java script            5   5000"
      ]
     },
     "execution_count": 67,
     "metadata": {},
     "output_type": "execute_result"
    }
   ],
   "source": [
    "libary"
   ]
  },
  {
   "cell_type": "code",
   "execution_count": null,
   "id": "807efe81",
   "metadata": {},
   "outputs": [],
   "source": []
  }
 ],
 "metadata": {
  "kernelspec": {
   "display_name": "Python 3 (ipykernel)",
   "language": "python",
   "name": "python3"
  },
  "language_info": {
   "codemirror_mode": {
    "name": "ipython",
    "version": 3
   },
   "file_extension": ".py",
   "mimetype": "text/x-python",
   "name": "python",
   "nbconvert_exporter": "python",
   "pygments_lexer": "ipython3",
   "version": "3.11.4"
  }
 },
 "nbformat": 4,
 "nbformat_minor": 5
}
