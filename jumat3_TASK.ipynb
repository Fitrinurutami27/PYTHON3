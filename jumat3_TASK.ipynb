{
 "cells": [
  {
   "cell_type": "markdown",
   "id": "5029aac2",
   "metadata": {},
   "source": [
    "# TASK1 HARI JUMAT"
   ]
  },
  {
   "cell_type": "code",
   "execution_count": null,
   "id": "8c21ff72",
   "metadata": {},
   "outputs": [
    {
     "name": "stdout",
     "output_type": "stream",
     "text": [
      "Masukkan nama kepala keluarga: daniel\n",
      "Masukkan total pengeluaran bulanan keluarga: 5.5\n",
      "Masukkan nama kepala keluarga: sabar\n",
      "Masukkan total pengeluaran bulanan keluarga: 9.0\n"
     ]
    }
   ],
   "source": [
    "# menyimpan data survei\n",
    "data_survey = []\n",
    "\n",
    "# Lakukan iterasi sebanyak 4 kali\n",
    "for i in range(4):\n",
    "    nama = input(\"Masukkan nama kepala keluarga: \")\n",
    "    pengeluaran = float(input(\"Masukkan total pengeluaran bulanan keluarga: \"))\n",
    "    data_survey.append((nama, pengeluaran))\n",
    "\n",
    "# Menampilkan hasil survei\n",
    "print(\"Hasil survei:\")\n",
    "for nama, pengeluaran in data_survey:\n",
    "    print(f\"Nama Kepala Keluarga: {nama}, Total Pengeluaran Bulanan: {pengeluaran}\")"
   ]
  },
  {
   "cell_type": "markdown",
   "id": "fd9ffa3e",
   "metadata": {},
   "source": [
    "# TASK2 HARI JUMAT"
   ]
  },
  {
   "cell_type": "code",
   "execution_count": 1,
   "id": "70fa851f",
   "metadata": {},
   "outputs": [
    {
     "name": "stdout",
     "output_type": "stream",
     "text": [
      "Masukkan nilai ujian SIM anda: 70\n",
      "Kategori nilai ujian SIM  Anda adalah: C\n"
     ]
    }
   ],
   "source": [
    "nilai = int(input(\"Masukkan nilai ujian SIM anda: \"))\n",
    "\n",
    "# kategori berdasarkan nilai\n",
    "if nilai >= 90:\n",
    "    kategori = \"A\"\n",
    "elif nilai >= 80:\n",
    "    kategori = \"B\"\n",
    "elif nilai >= 70:\n",
    "    kategori = \"C\"\n",
    "else:\n",
    "    kategori = \"D\"\n",
    "\n",
    "# Menampilkan kategori nilai\n",
    "print(f\"Kategori nilai ujian SIM  Anda adalah: {kategori}\")"
   ]
  },
  {
   "cell_type": "markdown",
   "id": "4e05ffa5",
   "metadata": {},
   "source": [
    "# TASK3 HARI JUMAT"
   ]
  },
  {
   "cell_type": "code",
   "execution_count": 2,
   "id": "4867523a",
   "metadata": {},
   "outputs": [
    {
     "name": "stdout",
     "output_type": "stream",
     "text": [
      "Masukkan jumlah data peminjam: 4\n",
      "Masukkan jumlah buku yang dipinjam (data ke-1): 4\n",
      "Kategori peminjam (data ke-1): Peminjam Biasa\n",
      "Masukkan jumlah buku yang dipinjam (data ke-2): 6\n",
      "Kategori peminjam (data ke-2): Peminjam Aktif\n",
      "Masukkan jumlah buku yang dipinjam (data ke-3): 1\n",
      "Kategori peminjam (data ke-3): Peminjam Jarang\n",
      "Masukkan jumlah buku yang dipinjam (data ke-4): 0\n",
      "Kategori peminjam (data ke-4): Peminjam Jarang\n"
     ]
    }
   ],
   "source": [
    "def kategori_peminjam(jumlah_buku):\n",
    "    try:\n",
    "        # jumlah buku adalah bilangan bulat\n",
    "        if not isinstance(jumlah_buku, int) or jumlah_buku < 0:\n",
    "            raise ValueError(\"Jumlah buku harus berupa bilangan bulat positif\")\n",
    "        \n",
    "        # peminjam berdasarkan jumlah buku\n",
    "        if jumlah_buku > 5:\n",
    "            return \"Peminjam Aktif\"\n",
    "        elif 2 <= jumlah_buku <= 5:\n",
    "            return \"Peminjam Biasa\"\n",
    "        else:\n",
    "            return \"Peminjam Jarang\"\n",
    "    except ValueError as e:\n",
    "        return str(e)\n",
    "\n",
    "# jumlah buku dari pengguna\n",
    "try:\n",
    "    num_entries = int(input(\"Masukkan jumlah data peminjam: \"))\n",
    "    for i in range(num_entries):\n",
    "        jumlah_buku = int(input(f\"Masukkan jumlah buku yang dipinjam (data ke-{i+1}): \"))\n",
    "        kategori = kategori_peminjam(jumlah_buku)\n",
    "        print(f\"Kategori peminjam (data ke-{i+1}): {kategori}\")\n",
    "except ValueError as e:\n",
    "    print(e)"
   ]
  },
  {
   "cell_type": "code",
   "execution_count": null,
   "id": "a2889f42",
   "metadata": {},
   "outputs": [],
   "source": []
  }
 ],
 "metadata": {
  "kernelspec": {
   "display_name": "Python 3 (ipykernel)",
   "language": "python",
   "name": "python3"
  },
  "language_info": {
   "codemirror_mode": {
    "name": "ipython",
    "version": 3
   },
   "file_extension": ".py",
   "mimetype": "text/x-python",
   "name": "python",
   "nbconvert_exporter": "python",
   "pygments_lexer": "ipython3",
   "version": "3.11.4"
  }
 },
 "nbformat": 4,
 "nbformat_minor": 5
}
